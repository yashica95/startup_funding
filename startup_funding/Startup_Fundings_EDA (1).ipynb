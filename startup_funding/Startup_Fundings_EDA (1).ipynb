{
  "nbformat": 4,
  "nbformat_minor": 0,
  "metadata": {
    "colab": {
      "name": "Startup_Fundings_EDA.ipynb",
      "provenance": [],
      "collapsed_sections": []
    },
    "kernelspec": {
      "name": "python3",
      "display_name": "Python 3"
    }
  },
  "cells": [
    {
      "cell_type": "code",
      "metadata": {
        "id": "Oi1zr3JZ20rq",
        "colab_type": "code",
        "colab": {}
      },
      "source": [
        "#import libraries \n",
        "import numpy as np \n",
        "import pandas as pd \n",
        "import matplotlib.pyplot as plt\n",
        "from bokeh.plotting import figure\n",
        "from bokeh.io import output_notebook, show, output_file\n",
        "from bokeh.models import ColumnDataSource, HoverTool, Panel\n",
        "from bokeh.models.widgets import Tabs\n",
        "\n",
        "plt.style.use('ggplot')\n",
        "plt.style.use('seaborn-notebook')\n",
        "plt.style.use('seaborn-white')\n"
      ],
      "execution_count": 0,
      "outputs": []
    },
    {
      "cell_type": "code",
      "metadata": {
        "id": "YiDJuCRz3lN6",
        "colab_type": "code",
        "colab": {
          "base_uri": "https://localhost:8080/",
          "height": 34
        },
        "outputId": "fe935d0f-2779-40cd-fe8f-2f98dd8042b9"
      },
      "source": [
        "startup = pd.read_csv('https://github.com/yashica95/startup_funding/blob/master/data/datasets_1902_941761_startup_funding.csv', parse_dates=[1])\n",
        "startup.shape"
      ],
      "execution_count": 41,
      "outputs": [
        {
          "output_type": "execute_result",
          "data": {
            "text/plain": [
              "(3044, 10)"
            ]
          },
          "metadata": {
            "tags": []
          },
          "execution_count": 41
        }
      ]
    },
    {
      "cell_type": "code",
      "metadata": {
        "id": "J6sswGee3p0-",
        "colab_type": "code",
        "outputId": "2f2322be-1c9f-4b34-baf2-3222d76549a8",
        "colab": {
          "base_uri": "https://localhost:8080/",
          "height": 394
        }
      },
      "source": [
        "startup.head()"
      ],
      "execution_count": 42,
      "outputs": [
        {
          "output_type": "execute_result",
          "data": {
            "text/html": [
              "<div>\n",
              "<style scoped>\n",
              "    .dataframe tbody tr th:only-of-type {\n",
              "        vertical-align: middle;\n",
              "    }\n",
              "\n",
              "    .dataframe tbody tr th {\n",
              "        vertical-align: top;\n",
              "    }\n",
              "\n",
              "    .dataframe thead th {\n",
              "        text-align: right;\n",
              "    }\n",
              "</style>\n",
              "<table border=\"1\" class=\"dataframe\">\n",
              "  <thead>\n",
              "    <tr style=\"text-align: right;\">\n",
              "      <th></th>\n",
              "      <th>Sr No</th>\n",
              "      <th>Date dd/mm/yyyy</th>\n",
              "      <th>Startup Name</th>\n",
              "      <th>Industry Vertical</th>\n",
              "      <th>SubVertical</th>\n",
              "      <th>City  Location</th>\n",
              "      <th>Investors Name</th>\n",
              "      <th>InvestmentnType</th>\n",
              "      <th>Amount in USD</th>\n",
              "      <th>Remarks</th>\n",
              "    </tr>\n",
              "  </thead>\n",
              "  <tbody>\n",
              "    <tr>\n",
              "      <th>0</th>\n",
              "      <td>1</td>\n",
              "      <td>09/01/2020</td>\n",
              "      <td>BYJU’S</td>\n",
              "      <td>E-Tech</td>\n",
              "      <td>E-learning</td>\n",
              "      <td>Bengaluru</td>\n",
              "      <td>Tiger Global Management</td>\n",
              "      <td>Private Equity Round</td>\n",
              "      <td>20,00,00,000</td>\n",
              "      <td>NaN</td>\n",
              "    </tr>\n",
              "    <tr>\n",
              "      <th>1</th>\n",
              "      <td>2</td>\n",
              "      <td>13/01/2020</td>\n",
              "      <td>Shuttl</td>\n",
              "      <td>Transportation</td>\n",
              "      <td>App based shuttle service</td>\n",
              "      <td>Gurgaon</td>\n",
              "      <td>Susquehanna Growth Equity</td>\n",
              "      <td>Series C</td>\n",
              "      <td>80,48,394</td>\n",
              "      <td>NaN</td>\n",
              "    </tr>\n",
              "    <tr>\n",
              "      <th>2</th>\n",
              "      <td>3</td>\n",
              "      <td>09/01/2020</td>\n",
              "      <td>Mamaearth</td>\n",
              "      <td>E-commerce</td>\n",
              "      <td>Retailer of baby and toddler products</td>\n",
              "      <td>Bengaluru</td>\n",
              "      <td>Sequoia Capital India</td>\n",
              "      <td>Series B</td>\n",
              "      <td>1,83,58,860</td>\n",
              "      <td>NaN</td>\n",
              "    </tr>\n",
              "    <tr>\n",
              "      <th>3</th>\n",
              "      <td>4</td>\n",
              "      <td>02/01/2020</td>\n",
              "      <td>https://www.wealthbucket.in/</td>\n",
              "      <td>FinTech</td>\n",
              "      <td>Online Investment</td>\n",
              "      <td>New Delhi</td>\n",
              "      <td>Vinod Khatumal</td>\n",
              "      <td>Pre-series A</td>\n",
              "      <td>30,00,000</td>\n",
              "      <td>NaN</td>\n",
              "    </tr>\n",
              "    <tr>\n",
              "      <th>4</th>\n",
              "      <td>5</td>\n",
              "      <td>02/01/2020</td>\n",
              "      <td>Fashor</td>\n",
              "      <td>Fashion and Apparel</td>\n",
              "      <td>Embroiled Clothes For Women</td>\n",
              "      <td>Mumbai</td>\n",
              "      <td>Sprout Venture Partners</td>\n",
              "      <td>Seed Round</td>\n",
              "      <td>18,00,000</td>\n",
              "      <td>NaN</td>\n",
              "    </tr>\n",
              "  </tbody>\n",
              "</table>\n",
              "</div>"
            ],
            "text/plain": [
              "   Sr No Date dd/mm/yyyy  ... Amount in USD Remarks\n",
              "0      1      09/01/2020  ...  20,00,00,000     NaN\n",
              "1      2      13/01/2020  ...     80,48,394     NaN\n",
              "2      3      09/01/2020  ...   1,83,58,860     NaN\n",
              "3      4      02/01/2020  ...     30,00,000     NaN\n",
              "4      5      02/01/2020  ...     18,00,000     NaN\n",
              "\n",
              "[5 rows x 10 columns]"
            ]
          },
          "metadata": {
            "tags": []
          },
          "execution_count": 42
        }
      ]
    },
    {
      "cell_type": "code",
      "metadata": {
        "id": "zFwywnDL3rEq",
        "colab_type": "code",
        "colab": {}
      },
      "source": [
        "#Understanding our data\n",
        "#All columns are categorical, except Sr No. - which we can drop since it does not provide any extra information \n",
        "\n",
        "startup.drop('Sr No', inplace=True, axis=1)"
      ],
      "execution_count": 0,
      "outputs": []
    },
    {
      "cell_type": "code",
      "metadata": {
        "id": "li2D8t1B3tCc",
        "colab_type": "code",
        "colab": {}
      },
      "source": [
        "#let's clean the column names for easy indexing\n",
        "startup.columns = ['date', 'startup', 'industry','sub_vertical','location','investor','investment_type','amount','remarks' ]\n",
        "\n"
      ],
      "execution_count": 0,
      "outputs": []
    },
    {
      "cell_type": "code",
      "metadata": {
        "id": "z1-gTEJe3vyb",
        "colab_type": "code",
        "colab": {}
      },
      "source": [
        "def clean_string(x):\n",
        "    x = str(x).replace(\"\\\\xc2\\\\xa0\",\"\").replace(\"\\\\\\\\xc2\\\\\\\\xa0\", \"\").replace(\"+\",\"\").replace(\",\",\"\").replace(\"nan\", \"\").replace(\"Undisclosed\",\"\").replace(\"undisclosed\",\"\").replace(\"unknown\",\"\").replace(\"N/A\",\"\")\n",
        "    if x == '':\n",
        "        x = '-999'\n",
        "    return x\n",
        "\n",
        "\n",
        "#clean all strings in data and remove unnecessary characters \n",
        "for col in startup.columns:\n",
        "    startup[col]= startup[col].apply(lambda x: clean_string(x))"
      ],
      "execution_count": 0,
      "outputs": []
    },
    {
      "cell_type": "code",
      "metadata": {
        "id": "qp9HPQod3x94",
        "colab_type": "code",
        "outputId": "78423ed1-29d5-4a79-8efd-b88c9ad64e0c",
        "colab": {
          "base_uri": "https://localhost:8080/",
          "height": 187
        }
      },
      "source": [
        "#Find Missing Values\n",
        "startup.isna().sum()"
      ],
      "execution_count": 46,
      "outputs": [
        {
          "output_type": "execute_result",
          "data": {
            "text/plain": [
              "date               0\n",
              "startup            0\n",
              "industry           0\n",
              "sub_vertical       0\n",
              "location           0\n",
              "investor           0\n",
              "investment_type    0\n",
              "amount             0\n",
              "remarks            0\n",
              "dtype: int64"
            ]
          },
          "metadata": {
            "tags": []
          },
          "execution_count": 46
        }
      ]
    },
    {
      "cell_type": "code",
      "metadata": {
        "id": "fHLd3F083znJ",
        "colab_type": "code",
        "outputId": "fe9b40ed-7e71-490a-a227-301b6842bfad",
        "colab": {
          "base_uri": "https://localhost:8080/",
          "height": 173
        }
      },
      "source": [
        "startup.describe()"
      ],
      "execution_count": 47,
      "outputs": [
        {
          "output_type": "execute_result",
          "data": {
            "text/html": [
              "<div>\n",
              "<style scoped>\n",
              "    .dataframe tbody tr th:only-of-type {\n",
              "        vertical-align: middle;\n",
              "    }\n",
              "\n",
              "    .dataframe tbody tr th {\n",
              "        vertical-align: top;\n",
              "    }\n",
              "\n",
              "    .dataframe thead th {\n",
              "        text-align: right;\n",
              "    }\n",
              "</style>\n",
              "<table border=\"1\" class=\"dataframe\">\n",
              "  <thead>\n",
              "    <tr style=\"text-align: right;\">\n",
              "      <th></th>\n",
              "      <th>date</th>\n",
              "      <th>startup</th>\n",
              "      <th>industry</th>\n",
              "      <th>sub_vertical</th>\n",
              "      <th>location</th>\n",
              "      <th>investor</th>\n",
              "      <th>investment_type</th>\n",
              "      <th>amount</th>\n",
              "      <th>remarks</th>\n",
              "    </tr>\n",
              "  </thead>\n",
              "  <tbody>\n",
              "    <tr>\n",
              "      <th>count</th>\n",
              "      <td>3044</td>\n",
              "      <td>3044</td>\n",
              "      <td>3044</td>\n",
              "      <td>3044</td>\n",
              "      <td>3044</td>\n",
              "      <td>3044</td>\n",
              "      <td>3044</td>\n",
              "      <td>3044</td>\n",
              "      <td>3044</td>\n",
              "    </tr>\n",
              "    <tr>\n",
              "      <th>unique</th>\n",
              "      <td>1035</td>\n",
              "      <td>2457</td>\n",
              "      <td>822</td>\n",
              "      <td>1943</td>\n",
              "      <td>108</td>\n",
              "      <td>2393</td>\n",
              "      <td>56</td>\n",
              "      <td>458</td>\n",
              "      <td>70</td>\n",
              "    </tr>\n",
              "    <tr>\n",
              "      <th>top</th>\n",
              "      <td>08/07/2015</td>\n",
              "      <td>Swiggy</td>\n",
              "      <td>Consumer Internet</td>\n",
              "      <td>-999</td>\n",
              "      <td>Bangalore</td>\n",
              "      <td>investors</td>\n",
              "      <td>Private Equity</td>\n",
              "      <td>-999</td>\n",
              "      <td>-999</td>\n",
              "    </tr>\n",
              "    <tr>\n",
              "      <th>freq</th>\n",
              "      <td>11</td>\n",
              "      <td>8</td>\n",
              "      <td>941</td>\n",
              "      <td>936</td>\n",
              "      <td>701</td>\n",
              "      <td>41</td>\n",
              "      <td>1356</td>\n",
              "      <td>971</td>\n",
              "      <td>2625</td>\n",
              "    </tr>\n",
              "  </tbody>\n",
              "</table>\n",
              "</div>"
            ],
            "text/plain": [
              "              date startup           industry  ... investment_type amount remarks\n",
              "count         3044    3044               3044  ...            3044   3044    3044\n",
              "unique        1035    2457                822  ...              56    458      70\n",
              "top     08/07/2015  Swiggy  Consumer Internet  ...  Private Equity   -999    -999\n",
              "freq            11       8                941  ...            1356    971    2625\n",
              "\n",
              "[4 rows x 9 columns]"
            ]
          },
          "metadata": {
            "tags": []
          },
          "execution_count": 47
        }
      ]
    },
    {
      "cell_type": "code",
      "metadata": {
        "id": "aeXnUVfp31N4",
        "colab_type": "code",
        "outputId": "a7f0e7af-ab04-49d8-f5f5-5ef47952e689",
        "colab": {
          "base_uri": "https://localhost:8080/",
          "height": 34
        }
      },
      "source": [
        "print( f'so we have data of {startup.shape[0]} startups from {startup.date.min()} to {startup.date.max()}')"
      ],
      "execution_count": 48,
      "outputs": [
        {
          "output_type": "stream",
          "text": [
            "so we have data of 3044 startups from 01/01/2016 to 31/10/2017\n"
          ],
          "name": "stdout"
        }
      ]
    },
    {
      "cell_type": "code",
      "metadata": {
        "id": "h1NYrY-v32sB",
        "colab_type": "code",
        "colab": {}
      },
      "source": [
        "#correct dates to match DD/MM/YYYY format\n",
        "startup['date'][startup['date']=='05/072018']='05/07/2018'\n",
        "startup['date'][startup['date']=='01/07/015']='01/07/2015'\n",
        "startup['date'][startup['date']=='12/05.2015']='12/05/2015'\n",
        "startup['date'][startup['date']=='13/04.2015']='13/04/2015'\n",
        "startup['date'][startup['date']=='15/01.2015']='15/01/2015'\n",
        "startup['date'][startup['date']=='22/01//2015']='22/01/2015'\n",
        "\n",
        "startup[\"year\"] = pd.to_datetime(startup['date'],format='%d/%m/%Y').dt.year\n",
        "startup[\"month\"] = pd.to_datetime(startup['date'],format='%d/%m/%Y').dt.month\n"
      ],
      "execution_count": 0,
      "outputs": []
    },
    {
      "cell_type": "code",
      "metadata": {
        "id": "pgbhKsyCplPV",
        "colab_type": "code",
        "outputId": "0f401e85-1382-4332-c2de-311b4f293bff",
        "colab": {
          "base_uri": "https://localhost:8080/",
          "height": 136
        }
      },
      "source": [
        "#Number of fundings per year\n",
        "startup['year'].value_counts()"
      ],
      "execution_count": 50,
      "outputs": [
        {
          "output_type": "execute_result",
          "data": {
            "text/plain": [
              "2016    993\n",
              "2015    936\n",
              "2017    687\n",
              "2018    310\n",
              "2019    111\n",
              "2020      7\n",
              "Name: year, dtype: int64"
            ]
          },
          "metadata": {
            "tags": []
          },
          "execution_count": 50
        }
      ]
    },
    {
      "cell_type": "markdown",
      "metadata": {
        "id": "iQyYri8c4Ao2",
        "colab_type": "text"
      },
      "source": [
        "# Trend in Number of Fundings"
      ]
    },
    {
      "cell_type": "code",
      "metadata": {
        "id": "VYH1e8ktGlW3",
        "colab_type": "code",
        "colab": {}
      },
      "source": [
        "TOOLS = \"hover,save,pan,box_zoom,reset,wheel_zoom\"\n",
        "p = figure(\n",
        "    plot_width=400, \n",
        "    plot_height=400,\n",
        "    tools=TOOLS,\n",
        "    title='Number of Fundings Received from 2015-2020')\n",
        "df = pd.DataFrame(startup['year'].value_counts()).reset_index()\n",
        "p.vbar(x='index', width=0.5, bottom=0,\n",
        "       top='year', color=\"#1E90FF\", source=df )\n",
        "\n",
        "hover = p.select(dict(type=HoverTool))\n",
        "hover.tooltips = [(\"# of fundings\", \"@year\")]\n",
        "show(p)\n"
      ],
      "execution_count": 0,
      "outputs": []
    },
    {
      "cell_type": "markdown",
      "metadata": {
        "id": "DjUT8MNV4Hbl",
        "colab_type": "text"
      },
      "source": [
        "Number of Fundings increased in 2016 but since then, there has been a steady decrease in the number of fundings "
      ]
    },
    {
      "cell_type": "code",
      "metadata": {
        "id": "HYhlmF8o4D_0",
        "colab_type": "code",
        "colab": {}
      },
      "source": [
        "year_month =startup.groupby(['year','month']).agg(['count'])['amount']\n"
      ],
      "execution_count": 0,
      "outputs": []
    },
    {
      "cell_type": "code",
      "metadata": {
        "id": "wwY1PmHz4JEy",
        "colab_type": "code",
        "colab": {}
      },
      "source": [
        "#Some Amount values are NaN so we substitute them with -999 for easy handeling of data\n",
        "startup['amount'] = startup['amount'].apply(lambda x: float(x))\n",
        "startup['amount'] = startup['amount'] [~np.isnan(startup['amount'] )]\n",
        "startup['amount']  = startup['amount'] [startup['amount'] !=-999]"
      ],
      "execution_count": 0,
      "outputs": []
    },
    {
      "cell_type": "code",
      "metadata": {
        "id": "r1iipspL4O0Y",
        "colab_type": "code",
        "outputId": "0680d6df-61ea-40b0-fa86-f28753ddc743",
        "colab": {
          "base_uri": "https://localhost:8080/",
          "height": 377
        }
      },
      "source": [
        "#Top 5 startups that got the maximum amount of funding\n",
        "startup.sort_values(by='amount', ascending=False).head(5)"
      ],
      "execution_count": 54,
      "outputs": [
        {
          "output_type": "execute_result",
          "data": {
            "text/html": [
              "<div>\n",
              "<style scoped>\n",
              "    .dataframe tbody tr th:only-of-type {\n",
              "        vertical-align: middle;\n",
              "    }\n",
              "\n",
              "    .dataframe tbody tr th {\n",
              "        vertical-align: top;\n",
              "    }\n",
              "\n",
              "    .dataframe thead th {\n",
              "        text-align: right;\n",
              "    }\n",
              "</style>\n",
              "<table border=\"1\" class=\"dataframe\">\n",
              "  <thead>\n",
              "    <tr style=\"text-align: right;\">\n",
              "      <th></th>\n",
              "      <th>date</th>\n",
              "      <th>startup</th>\n",
              "      <th>industry</th>\n",
              "      <th>sub_vertical</th>\n",
              "      <th>location</th>\n",
              "      <th>investor</th>\n",
              "      <th>investment_type</th>\n",
              "      <th>amount</th>\n",
              "      <th>remarks</th>\n",
              "      <th>year</th>\n",
              "      <th>month</th>\n",
              "    </tr>\n",
              "  </thead>\n",
              "  <tbody>\n",
              "    <tr>\n",
              "      <th>60</th>\n",
              "      <td>27/08/2019</td>\n",
              "      <td>Rapido Bike Taxi</td>\n",
              "      <td>Transportation</td>\n",
              "      <td>Bike Taxi</td>\n",
              "      <td>Bengaluru</td>\n",
              "      <td>Westbridge Capital</td>\n",
              "      <td>Series B</td>\n",
              "      <td>3.900000e+09</td>\n",
              "      <td>-999</td>\n",
              "      <td>2019</td>\n",
              "      <td>8</td>\n",
              "    </tr>\n",
              "    <tr>\n",
              "      <th>651</th>\n",
              "      <td>11/08/2017</td>\n",
              "      <td>Flipkart</td>\n",
              "      <td>eCommerce</td>\n",
              "      <td>Online Marketplace</td>\n",
              "      <td>Bangalore</td>\n",
              "      <td>Softbank</td>\n",
              "      <td>Private Equity</td>\n",
              "      <td>2.500000e+09</td>\n",
              "      <td>-999</td>\n",
              "      <td>2017</td>\n",
              "      <td>8</td>\n",
              "    </tr>\n",
              "    <tr>\n",
              "      <th>966</th>\n",
              "      <td>21/03/2017</td>\n",
              "      <td>Flipkart</td>\n",
              "      <td>eCommerce</td>\n",
              "      <td>ECommerce Marketplace</td>\n",
              "      <td>Bangalore</td>\n",
              "      <td>Microsoft eBay Tencent Holdings</td>\n",
              "      <td>Private Equity</td>\n",
              "      <td>1.400000e+09</td>\n",
              "      <td>-999</td>\n",
              "      <td>2017</td>\n",
              "      <td>3</td>\n",
              "    </tr>\n",
              "    <tr>\n",
              "      <th>830</th>\n",
              "      <td>18/05/2017</td>\n",
              "      <td>Paytm</td>\n",
              "      <td>ECommerce</td>\n",
              "      <td>Mobile Wallet &amp; ECommerce platform</td>\n",
              "      <td>Bangalore</td>\n",
              "      <td>SoftBank Group</td>\n",
              "      <td>Private Equity</td>\n",
              "      <td>1.400000e+09</td>\n",
              "      <td>-999</td>\n",
              "      <td>2017</td>\n",
              "      <td>5</td>\n",
              "    </tr>\n",
              "    <tr>\n",
              "      <th>31</th>\n",
              "      <td>25/11/2019</td>\n",
              "      <td>Paytm</td>\n",
              "      <td>FinTech</td>\n",
              "      <td>Mobile Wallet</td>\n",
              "      <td>Noida</td>\n",
              "      <td>Vijay Shekhar Sharma</td>\n",
              "      <td>Funding Round</td>\n",
              "      <td>1.000000e+09</td>\n",
              "      <td>-999</td>\n",
              "      <td>2019</td>\n",
              "      <td>11</td>\n",
              "    </tr>\n",
              "  </tbody>\n",
              "</table>\n",
              "</div>"
            ],
            "text/plain": [
              "           date           startup        industry  ... remarks  year month\n",
              "60   27/08/2019  Rapido Bike Taxi  Transportation  ...    -999  2019     8\n",
              "651  11/08/2017          Flipkart       eCommerce  ...    -999  2017     8\n",
              "966  21/03/2017          Flipkart       eCommerce  ...    -999  2017     3\n",
              "830  18/05/2017             Paytm       ECommerce  ...    -999  2017     5\n",
              "31   25/11/2019             Paytm         FinTech  ...    -999  2019    11\n",
              "\n",
              "[5 rows x 11 columns]"
            ]
          },
          "metadata": {
            "tags": []
          },
          "execution_count": 54
        }
      ]
    },
    {
      "cell_type": "markdown",
      "metadata": {
        "id": "9Auur0Nq4ViY",
        "colab_type": "text"
      },
      "source": [
        "1. Interestingly, according to this data, Rapido got the maximum funding - even higher than Tech Giants like Flipkart and PayTm.\n",
        "[Based on this news](https://yourstory.com/2019/08/startup-funding-bike-taxi-app-rapido-series-b-westbridge-capital#:~:text=Its%20valuation%20has%20now%20reached%20Rs%201%2C005%20crore.&text=Bengaluru%2Dbased%20bike%20taxi%20app%20Rapido%20has%20raised%20funding%20of,Limited%2C%20and%20a%20few%20others), Rapido actually got a funding of Rs. 391 crores and not USD 391 Billion. That means, it only got a funding of $51.7 M. \n",
        "2. Also, the other 3 top fundings were recieved in 2017 by Flipkart and Paytm"
      ]
    },
    {
      "cell_type": "code",
      "metadata": {
        "id": "2-SlaUYM4WIv",
        "colab_type": "code",
        "outputId": "1454cdc0-6705-4959-c086-39783fb6db5d",
        "colab": {
          "base_uri": "https://localhost:8080/",
          "height": 122
        }
      },
      "source": [
        "#Correct funding amount of Rapido\n",
        "startup['amount'][startup['startup']=='Rapido Bike Taxi']=51700000.0"
      ],
      "execution_count": 55,
      "outputs": [
        {
          "output_type": "stream",
          "text": [
            "/usr/local/lib/python3.6/dist-packages/ipykernel_launcher.py:2: SettingWithCopyWarning: \n",
            "A value is trying to be set on a copy of a slice from a DataFrame\n",
            "\n",
            "See the caveats in the documentation: https://pandas.pydata.org/pandas-docs/stable/user_guide/indexing.html#returning-a-view-versus-a-copy\n",
            "  \n"
          ],
          "name": "stderr"
        }
      ]
    },
    {
      "cell_type": "markdown",
      "metadata": {
        "id": "TThue7zI4gN0",
        "colab_type": "text"
      },
      "source": [
        "# Evaluate funding amount per year"
      ]
    },
    {
      "cell_type": "code",
      "metadata": {
        "id": "rcIKpIv14cUP",
        "colab_type": "code",
        "outputId": "86c7a7b4-f665-4988-c5fa-d279d7180de5",
        "colab": {
          "base_uri": "https://localhost:8080/",
          "height": 266
        }
      },
      "source": [
        "#Total Funding amount per year\n",
        "sum_year = startup.groupby(['year']).agg(['sum'])['amount']\n",
        "sum_year"
      ],
      "execution_count": 56,
      "outputs": [
        {
          "output_type": "execute_result",
          "data": {
            "text/html": [
              "<div>\n",
              "<style scoped>\n",
              "    .dataframe tbody tr th:only-of-type {\n",
              "        vertical-align: middle;\n",
              "    }\n",
              "\n",
              "    .dataframe tbody tr th {\n",
              "        vertical-align: top;\n",
              "    }\n",
              "\n",
              "    .dataframe thead th {\n",
              "        text-align: right;\n",
              "    }\n",
              "</style>\n",
              "<table border=\"1\" class=\"dataframe\">\n",
              "  <thead>\n",
              "    <tr style=\"text-align: right;\">\n",
              "      <th></th>\n",
              "      <th>sum</th>\n",
              "    </tr>\n",
              "    <tr>\n",
              "      <th>year</th>\n",
              "      <th></th>\n",
              "    </tr>\n",
              "  </thead>\n",
              "  <tbody>\n",
              "    <tr>\n",
              "      <th>2015</th>\n",
              "      <td>8.673022e+09</td>\n",
              "    </tr>\n",
              "    <tr>\n",
              "      <th>2016</th>\n",
              "      <td>3.828089e+09</td>\n",
              "    </tr>\n",
              "    <tr>\n",
              "      <th>2017</th>\n",
              "      <td>1.042931e+10</td>\n",
              "    </tr>\n",
              "    <tr>\n",
              "      <th>2018</th>\n",
              "      <td>5.122368e+09</td>\n",
              "    </tr>\n",
              "    <tr>\n",
              "      <th>2019</th>\n",
              "      <td>5.852619e+09</td>\n",
              "    </tr>\n",
              "    <tr>\n",
              "      <th>2020</th>\n",
              "      <td>3.902073e+08</td>\n",
              "    </tr>\n",
              "  </tbody>\n",
              "</table>\n",
              "</div>"
            ],
            "text/plain": [
              "               sum\n",
              "year              \n",
              "2015  8.673022e+09\n",
              "2016  3.828089e+09\n",
              "2017  1.042931e+10\n",
              "2018  5.122368e+09\n",
              "2019  5.852619e+09\n",
              "2020  3.902073e+08"
            ]
          },
          "metadata": {
            "tags": []
          },
          "execution_count": 56
        }
      ]
    },
    {
      "cell_type": "code",
      "metadata": {
        "id": "2P5oyLYFRgiP",
        "colab_type": "code",
        "colab": {
          "base_uri": "https://localhost:8080/",
          "height": 619
        },
        "outputId": "1c91d7f3-286b-4fa2-8a8c-c50a7a3535ed"
      },
      "source": [
        "fig = plt.figure(figsize=(20,12))\n",
        "\n",
        "ax1 = fig.add_subplot(211)\n",
        "ax2 = fig.add_subplot(224)\n",
        "ax3 = fig.add_subplot(223)\n",
        "\n",
        "#trend of number of fundings\n",
        "startup.groupby(['year','month']).agg(['count'])['amount'].plot(\n",
        "    \n",
        "    color=\"#1E90FF\", \n",
        "    legend=False, \n",
        "    grid=False,\n",
        "    ax=ax1)\n",
        "ax1.set_title('Historical Trend - Number of Fundings',fontsize=18)\n",
        "ax1.set_ylabel('Number of Fundings')\n",
        "\n",
        "#Total sum of funding amount per year\n",
        "startup.groupby(['year']).agg(['sum'])['amount'].plot(\n",
        "    \n",
        "    kind='bar',\n",
        "    color=\"#1E90FF\",\n",
        "    grid=False,\n",
        "    legend=False,\n",
        "    ax=ax2)\n",
        "ax2.set_title('Sum of Total Funding Amount',fontsize=18)\n",
        "ax2.set_ylabel('Amount (in USD)');\n",
        "\n",
        "#Boxplot Distribution of funding amount \n",
        "startup[startup['amount'] != -999].boxplot(column='amount', ax=ax3)\n",
        "ax3.set_title('Distribution of Funding Amount( in USD)',fontsize=18)\n",
        "\n",
        "plt.show();"
      ],
      "execution_count": 57,
      "outputs": [
        {
          "output_type": "display_data",
          "data": {
            "image/png": "[encoded data removed]",
            "text/plain": [
              "<Figure size 1440x864 with 3 Axes>"
            ]
          },
          "metadata": {
            "tags": []
          }
        }
      ]
    },
    {
      "cell_type": "markdown",
      "metadata": {
        "id": "iXZVpURQ4Kwv",
        "colab_type": "text"
      },
      "source": [
        "There is clear decline in number of fundings in last few years but there is some improvement in last couple of months"
      ]
    },
    {
      "cell_type": "markdown",
      "metadata": {
        "id": "5BPdFriI4lIE",
        "colab_type": "text"
      },
      "source": [
        "1. While 2016 had the most number of fundings, 2017 saw highest total funding recieved by indian startups ( Flipkart and PayTM recieved the highest funding amount as seen earlier).\n",
        "2. Total funding decreased sharply in 2018 but it's increasing steadily. \n",
        "3. Also, There are few outlier startups with a very high funding amount"
      ]
    },
    {
      "cell_type": "markdown",
      "metadata": {
        "id": "rkKuFEGM4o9H",
        "colab_type": "text"
      },
      "source": [
        "# Evaluate Industry  "
      ]
    },
    {
      "cell_type": "code",
      "metadata": {
        "id": "RRFjAQcO4jrK",
        "colab_type": "code",
        "outputId": "eb41e24d-ce40-46e9-846b-24fb0708148e",
        "colab": {
          "base_uri": "https://localhost:8080/",
          "height": 204
        }
      },
      "source": [
        "#Number of fundings per industry\n",
        "startup['industry'].value_counts()[:10].sort_values(ascending=True)\n",
        "\n"
      ],
      "execution_count": 58,
      "outputs": [
        {
          "output_type": "execute_result",
          "data": {
            "text/plain": [
              "Education             24\n",
              "E-Commerce            29\n",
              "Logistics             32\n",
              "ECommerce             61\n",
              "Fice                  62\n",
              "Healthcare            70\n",
              "-999                 171\n",
              "eCommerce            186\n",
              "Technology           478\n",
              "Consumer Internet    941\n",
              "Name: industry, dtype: int64"
            ]
          },
          "metadata": {
            "tags": []
          },
          "execution_count": 58
        }
      ]
    },
    {
      "cell_type": "markdown",
      "metadata": {
        "id": "00gyli1BErSg",
        "colab_type": "text"
      },
      "source": [
        "We see that E-Commerce has been written in different ways - eCommerce, ECommerce etc. Let's combine all of them together as 'E-commerce'"
      ]
    },
    {
      "cell_type": "code",
      "metadata": {
        "id": "KVulLsBJ4nao",
        "colab_type": "code",
        "outputId": "560e4c30-5429-49e6-9743-badbdfc84f30",
        "colab": {
          "base_uri": "https://localhost:8080/",
          "height": 204
        }
      },
      "source": [
        "startup['industry'] = startup['industry'].apply(lambda x: str(x).replace(\"eCommerce\",\"E-commerce\").replace( \"ECommerce\",\"E-commerce\").replace(\"E-Commerce\",\"E-commerce\"))\n",
        "startup['industry'].value_counts()[:10].sort_values(ascending=True)"
      ],
      "execution_count": 59,
      "outputs": [
        {
          "output_type": "execute_result",
          "data": {
            "text/plain": [
              "Ed-Tech               14\n",
              "Food & Beverage       23\n",
              "Education             24\n",
              "Logistics             32\n",
              "Fice                  62\n",
              "Healthcare            70\n",
              "-999                 171\n",
              "E-commerce           288\n",
              "Technology           478\n",
              "Consumer Internet    941\n",
              "Name: industry, dtype: int64"
            ]
          },
          "metadata": {
            "tags": []
          },
          "execution_count": 59
        }
      ]
    },
    {
      "cell_type": "markdown",
      "metadata": {
        "id": "FP9ksyt74ugn",
        "colab_type": "text"
      },
      "source": [
        "It's interesting to see that Consumer Internet saw the maximum number of Funding, followed by Technology and E-commerce."
      ]
    },
    {
      "cell_type": "code",
      "metadata": {
        "id": "yfIX33zH4sZw",
        "colab_type": "code",
        "outputId": "2c7e2e15-bc10-4c7f-f7a6-111ad634a91d",
        "colab": {
          "base_uri": "https://localhost:8080/",
          "height": 390
        }
      },
      "source": [
        "#Total Sum of Fundings by Industry\n",
        "startup.groupby('industry')['amount'].agg(['sum']).sort_values(by='sum', ascending=False)[:10]"
      ],
      "execution_count": 60,
      "outputs": [
        {
          "output_type": "execute_result",
          "data": {
            "text/html": [
              "<div>\n",
              "<style scoped>\n",
              "    .dataframe tbody tr th:only-of-type {\n",
              "        vertical-align: middle;\n",
              "    }\n",
              "\n",
              "    .dataframe tbody tr th {\n",
              "        vertical-align: top;\n",
              "    }\n",
              "\n",
              "    .dataframe thead th {\n",
              "        text-align: right;\n",
              "    }\n",
              "</style>\n",
              "<table border=\"1\" class=\"dataframe\">\n",
              "  <thead>\n",
              "    <tr style=\"text-align: right;\">\n",
              "      <th></th>\n",
              "      <th>sum</th>\n",
              "    </tr>\n",
              "    <tr>\n",
              "      <th>industry</th>\n",
              "      <th></th>\n",
              "    </tr>\n",
              "  </thead>\n",
              "  <tbody>\n",
              "    <tr>\n",
              "      <th>E-commerce</th>\n",
              "      <td>7.978356e+09</td>\n",
              "    </tr>\n",
              "    <tr>\n",
              "      <th>Consumer Internet</th>\n",
              "      <td>6.253084e+09</td>\n",
              "    </tr>\n",
              "    <tr>\n",
              "      <th>Technology</th>\n",
              "      <td>2.229708e+09</td>\n",
              "    </tr>\n",
              "    <tr>\n",
              "      <th>Fice</th>\n",
              "      <td>1.971438e+09</td>\n",
              "    </tr>\n",
              "    <tr>\n",
              "      <th>-999</th>\n",
              "      <td>1.231811e+09</td>\n",
              "    </tr>\n",
              "    <tr>\n",
              "      <th>FinTech</th>\n",
              "      <td>1.220711e+09</td>\n",
              "    </tr>\n",
              "    <tr>\n",
              "      <th>Online Marketplace</th>\n",
              "      <td>7.001430e+08</td>\n",
              "    </tr>\n",
              "    <tr>\n",
              "      <th>E-commerce &amp; M-Commerce platform</th>\n",
              "      <td>6.800000e+08</td>\n",
              "    </tr>\n",
              "    <tr>\n",
              "      <th>B2B</th>\n",
              "      <td>5.870000e+08</td>\n",
              "    </tr>\n",
              "    <tr>\n",
              "      <th>Car Aggregator &amp; Retail Mobile App</th>\n",
              "      <td>5.000000e+08</td>\n",
              "    </tr>\n",
              "  </tbody>\n",
              "</table>\n",
              "</div>"
            ],
            "text/plain": [
              "                                             sum\n",
              "industry                                        \n",
              "E-commerce                          7.978356e+09\n",
              "Consumer Internet                   6.253084e+09\n",
              "Technology                          2.229708e+09\n",
              "Fice                                1.971438e+09\n",
              "-999                                1.231811e+09\n",
              "FinTech                             1.220711e+09\n",
              "Online Marketplace                  7.001430e+08\n",
              "E-commerce & M-Commerce platform    6.800000e+08\n",
              "B2B                                 5.870000e+08\n",
              "Car Aggregator & Retail Mobile App  5.000000e+08"
            ]
          },
          "metadata": {
            "tags": []
          },
          "execution_count": 60
        }
      ]
    },
    {
      "cell_type": "code",
      "metadata": {
        "id": "iiCbDIZWPKH4",
        "colab_type": "code",
        "colab": {
          "base_uri": "https://localhost:8080/",
          "height": 735
        },
        "outputId": "3a6da4ef-e3ec-4b3c-a841-e683ebec28e7"
      },
      "source": [
        "import matplotlib.pyplot as plt\n",
        "plt.style.use('ggplot')\n",
        "plt.style.use('seaborn-notebook')\n",
        "\n",
        "plt.style.use('seaborn-white')\n",
        "fig = plt.figure(figsize=(15,12))\n",
        "\n",
        "ax1 = fig.add_subplot(221)\n",
        "ax2 = fig.add_subplot(223)\n",
        "\n",
        "startup['industry'].value_counts()[:10].sort_values(ascending=True).plot(\n",
        "    \n",
        "    kind='barh',\n",
        "    color=\"#1E90FF\",\n",
        "    grid=False,\n",
        "    legend=False,\n",
        "    ax=ax1)\n",
        "ax1.set_title('Number of Fundings by Industry',fontsize=18)\n",
        "ax1.set_xlabel('# of Fundings', fontsize=12)\n",
        "startup.groupby('industry')['amount'].agg(['sum']).sort_values(by='sum', ascending=False)[:10].sort_values(by='sum', ascending=False).plot(\n",
        "    kind='barh',\n",
        "    color=\"#1E90FF\", \n",
        "    legend=False, \n",
        "    grid=False,\n",
        "    ax=ax2)\n",
        "ax2.set_xlabel('Total Fundings (USD)', fontsize=12)\n",
        "ax2.set_title('Total Sum of Fundings by Industry',fontsize=18)\n",
        "\n",
        "plt.show();"
      ],
      "execution_count": 61,
      "outputs": [
        {
          "output_type": "display_data",
          "data": {
            "image/png": "[encoded data removed]",
            "text/plain": [
              "<Figure size 1080x864 with 2 Axes>"
            ]
          },
          "metadata": {
            "tags": []
          }
        }
      ]
    },
    {
      "cell_type": "markdown",
      "metadata": {
        "id": "YxwuWCFF4zWL",
        "colab_type": "text"
      },
      "source": [
        "We can see here that, even though Consumer Internet got the highest number of fundings, E-commerce industry saw the highest total funding amount. We can dig down more and see which E-commerce startups got the highest funding amount"
      ]
    },
    {
      "cell_type": "code",
      "metadata": {
        "id": "BZyDKgdm4wKZ",
        "colab_type": "code",
        "outputId": "aa300a8d-460c-4ae1-c55d-55674e115f5b",
        "colab": {
          "base_uri": "https://localhost:8080/",
          "height": 204
        }
      },
      "source": [
        "#Top 5 startups in Ecommerce Industry who got the highest funding amount\n",
        "startup[startup['industry']=='E-commerce'].sort_values(by='amount',ascending=False)[:5].loc[:,['startup','investor','amount','year']]"
      ],
      "execution_count": 62,
      "outputs": [
        {
          "output_type": "execute_result",
          "data": {
            "text/html": [
              "<div>\n",
              "<style scoped>\n",
              "    .dataframe tbody tr th:only-of-type {\n",
              "        vertical-align: middle;\n",
              "    }\n",
              "\n",
              "    .dataframe tbody tr th {\n",
              "        vertical-align: top;\n",
              "    }\n",
              "\n",
              "    .dataframe thead th {\n",
              "        text-align: right;\n",
              "    }\n",
              "</style>\n",
              "<table border=\"1\" class=\"dataframe\">\n",
              "  <thead>\n",
              "    <tr style=\"text-align: right;\">\n",
              "      <th></th>\n",
              "      <th>startup</th>\n",
              "      <th>investor</th>\n",
              "      <th>amount</th>\n",
              "      <th>year</th>\n",
              "    </tr>\n",
              "  </thead>\n",
              "  <tbody>\n",
              "    <tr>\n",
              "      <th>651</th>\n",
              "      <td>Flipkart</td>\n",
              "      <td>Softbank</td>\n",
              "      <td>2.500000e+09</td>\n",
              "      <td>2017</td>\n",
              "    </tr>\n",
              "    <tr>\n",
              "      <th>830</th>\n",
              "      <td>Paytm</td>\n",
              "      <td>SoftBank Group</td>\n",
              "      <td>1.400000e+09</td>\n",
              "      <td>2017</td>\n",
              "    </tr>\n",
              "    <tr>\n",
              "      <th>966</th>\n",
              "      <td>Flipkart</td>\n",
              "      <td>Microsoft eBay Tencent Holdings</td>\n",
              "      <td>1.400000e+09</td>\n",
              "      <td>2017</td>\n",
              "    </tr>\n",
              "    <tr>\n",
              "      <th>16</th>\n",
              "      <td>Lenskart.com</td>\n",
              "      <td>SoftBank Vision Fund</td>\n",
              "      <td>2.310000e+08</td>\n",
              "      <td>2019</td>\n",
              "    </tr>\n",
              "    <tr>\n",
              "      <th>27</th>\n",
              "      <td>Digital Mall Asia</td>\n",
              "      <td>Amour Infrastructure</td>\n",
              "      <td>2.200000e+08</td>\n",
              "      <td>2019</td>\n",
              "    </tr>\n",
              "  </tbody>\n",
              "</table>\n",
              "</div>"
            ],
            "text/plain": [
              "               startup                         investor        amount  year\n",
              "651           Flipkart                         Softbank  2.500000e+09  2017\n",
              "830              Paytm                   SoftBank Group  1.400000e+09  2017\n",
              "966           Flipkart  Microsoft eBay Tencent Holdings  1.400000e+09  2017\n",
              "16        Lenskart.com             SoftBank Vision Fund  2.310000e+08  2019\n",
              "27   Digital Mall Asia             Amour Infrastructure  2.200000e+08  2019"
            ]
          },
          "metadata": {
            "tags": []
          },
          "execution_count": 62
        }
      ]
    },
    {
      "cell_type": "markdown",
      "metadata": {
        "id": "Ncv-rvdt43zf",
        "colab_type": "text"
      },
      "source": [
        "We can see a few similarities between the top funded E-commerce Startups:\n",
        "1. Softbank is the investor in 3 of these startups\n",
        "2. The top 3 startups are all present in Bangalore - suggesting that location might play an important role in getting funded. "
      ]
    },
    {
      "cell_type": "markdown",
      "metadata": {
        "id": "u-ehqBNp4-jj",
        "colab_type": "text"
      },
      "source": [
        "I am also interested to see the startups in Consumer Internet sector that have recieved high amount of funding. "
      ]
    },
    {
      "cell_type": "code",
      "metadata": {
        "id": "DD8KsZZl47LS",
        "colab_type": "code",
        "outputId": "68316725-6fb9-4aae-ba78-b0865d752ac6",
        "colab": {
          "base_uri": "https://localhost:8080/",
          "height": 530
        }
      },
      "source": [
        "#Top 5 startups in Consumer Internet Industry who got the highest funding amount\n",
        "\n",
        "startup[startup['industry']==\"Consumer Internet\"].sort_values(by='amount',ascending=False)[:5]"
      ],
      "execution_count": 63,
      "outputs": [
        {
          "output_type": "execute_result",
          "data": {
            "text/html": [
              "<div>\n",
              "<style scoped>\n",
              "    .dataframe tbody tr th:only-of-type {\n",
              "        vertical-align: middle;\n",
              "    }\n",
              "\n",
              "    .dataframe tbody tr th {\n",
              "        vertical-align: top;\n",
              "    }\n",
              "\n",
              "    .dataframe thead th {\n",
              "        text-align: right;\n",
              "    }\n",
              "</style>\n",
              "<table border=\"1\" class=\"dataframe\">\n",
              "  <thead>\n",
              "    <tr style=\"text-align: right;\">\n",
              "      <th></th>\n",
              "      <th>date</th>\n",
              "      <th>startup</th>\n",
              "      <th>industry</th>\n",
              "      <th>sub_vertical</th>\n",
              "      <th>location</th>\n",
              "      <th>investor</th>\n",
              "      <th>investment_type</th>\n",
              "      <th>amount</th>\n",
              "      <th>remarks</th>\n",
              "      <th>year</th>\n",
              "      <th>month</th>\n",
              "    </tr>\n",
              "  </thead>\n",
              "  <tbody>\n",
              "    <tr>\n",
              "      <th>924</th>\n",
              "      <td>01/03/2017</td>\n",
              "      <td>Ola</td>\n",
              "      <td>Consumer Internet</td>\n",
              "      <td>App based cab aggregator</td>\n",
              "      <td>Bangalore</td>\n",
              "      <td>SoftBank Group Corp</td>\n",
              "      <td>Private Equity</td>\n",
              "      <td>330000000.0</td>\n",
              "      <td>-999</td>\n",
              "      <td>2017</td>\n",
              "      <td>3</td>\n",
              "    </tr>\n",
              "    <tr>\n",
              "      <th>350</th>\n",
              "      <td>01/02/2018</td>\n",
              "      <td>BigBasket</td>\n",
              "      <td>Consumer Internet</td>\n",
              "      <td>Online Grocery &amp; Food Store</td>\n",
              "      <td>Bengaluru</td>\n",
              "      <td>Alibaba Helion Venture Partners Bessemer Ventu...</td>\n",
              "      <td>Private Equity</td>\n",
              "      <td>300000000.0</td>\n",
              "      <td>-999</td>\n",
              "      <td>2018</td>\n",
              "      <td>2</td>\n",
              "    </tr>\n",
              "    <tr>\n",
              "      <th>889</th>\n",
              "      <td>14/04/2017</td>\n",
              "      <td>Ola Cabs</td>\n",
              "      <td>Consumer Internet</td>\n",
              "      <td>Cab Aggregator App</td>\n",
              "      <td>Bangalore</td>\n",
              "      <td>SIMI Pacific Pte</td>\n",
              "      <td>Private Equity</td>\n",
              "      <td>260000000.0</td>\n",
              "      <td>-999</td>\n",
              "      <td>2017</td>\n",
              "      <td>4</td>\n",
              "    </tr>\n",
              "    <tr>\n",
              "      <th>586</th>\n",
              "      <td>07/09/2017</td>\n",
              "      <td>OYO Rooms</td>\n",
              "      <td>Consumer Internet</td>\n",
              "      <td>Branded budget hotels marketplace</td>\n",
              "      <td>Gurgaon</td>\n",
              "      <td>SoftBank Group Sequoia Capital India Lightspee...</td>\n",
              "      <td>Private Equity</td>\n",
              "      <td>250000000.0</td>\n",
              "      <td>-999</td>\n",
              "      <td>2017</td>\n",
              "      <td>9</td>\n",
              "    </tr>\n",
              "    <tr>\n",
              "      <th>906</th>\n",
              "      <td>24/04/2017</td>\n",
              "      <td>Oyo Rooms</td>\n",
              "      <td>Consumer Internet</td>\n",
              "      <td>Branded Budget Hotels Aggregator</td>\n",
              "      <td>Gurgaon</td>\n",
              "      <td>SoftBank Vision Fund Lightspeed Venture Partne...</td>\n",
              "      <td>Private Equity</td>\n",
              "      <td>250000000.0</td>\n",
              "      <td>-999</td>\n",
              "      <td>2017</td>\n",
              "      <td>4</td>\n",
              "    </tr>\n",
              "  </tbody>\n",
              "</table>\n",
              "</div>"
            ],
            "text/plain": [
              "           date    startup           industry  ... remarks  year month\n",
              "924  01/03/2017        Ola  Consumer Internet  ...    -999  2017     3\n",
              "350  01/02/2018  BigBasket  Consumer Internet  ...    -999  2018     2\n",
              "889  14/04/2017   Ola Cabs  Consumer Internet  ...    -999  2017     4\n",
              "586  07/09/2017  OYO Rooms  Consumer Internet  ...    -999  2017     9\n",
              "906  24/04/2017  Oyo Rooms  Consumer Internet  ...    -999  2017     4\n",
              "\n",
              "[5 rows x 11 columns]"
            ]
          },
          "metadata": {
            "tags": []
          },
          "execution_count": 63
        }
      ]
    },
    {
      "cell_type": "markdown",
      "metadata": {
        "id": "h8DetB0F5C0Y",
        "colab_type": "text"
      },
      "source": [
        "1. Again Softbank has invested in 3 of these startups\n",
        "2. Also, the top 3 startups are again present in Bangalore ( also spelled as Bengaluru - we can correct it). \n",
        "3. All top 5 startups have recieved Private Equity type investment - suggesting that private equities investments are generally higher than Seed fundings."
      ]
    },
    {
      "cell_type": "markdown",
      "metadata": {
        "id": "uMfYUw7q5Fr1",
        "colab_type": "text"
      },
      "source": [
        "# Evaluate Location "
      ]
    },
    {
      "cell_type": "code",
      "metadata": {
        "id": "HkwxGf4G5D8o",
        "colab_type": "code",
        "outputId": "71452af9-a01f-4ad8-f45b-002be60b4845",
        "colab": {
          "base_uri": "https://localhost:8080/",
          "height": 204
        }
      },
      "source": [
        "#correct different spellings of Bengaluru\n",
        "startup['location'] = startup['location'].apply(lambda x: str(x).replace(\"Bangalore\",\"Bengaluru\"))\n",
        "\n",
        "#number of fundings recieved by location \n",
        "startup['location'].value_counts()[:10].sort_values(ascending=False)"
      ],
      "execution_count": 64,
      "outputs": [
        {
          "output_type": "execute_result",
          "data": {
            "text/plain": [
              "Bengaluru    842\n",
              "Mumbai       568\n",
              "New Delhi    424\n",
              "Gurgaon      291\n",
              "-999         180\n",
              "Pune         105\n",
              "Hyderabad     99\n",
              "Chennai       97\n",
              "Noida         93\n",
              "Gurugram      50\n",
              "Name: location, dtype: int64"
            ]
          },
          "metadata": {
            "tags": []
          },
          "execution_count": 64
        }
      ]
    },
    {
      "cell_type": "markdown",
      "metadata": {
        "id": "6ORaaIXc5JnH",
        "colab_type": "text"
      },
      "source": [
        "Bengaluru seems the top choice for startups and investors in India. But has it always been so? "
      ]
    },
    {
      "cell_type": "code",
      "metadata": {
        "id": "S803vhbR5dLf",
        "colab_type": "code",
        "outputId": "c7be1571-3359-40c8-c97a-2138f8a72183",
        "colab": {
          "base_uri": "https://localhost:8080/",
          "height": 359
        }
      },
      "source": [
        "#Let's look at the historical trend of our top 6 states\n",
        "temp_df = startup.groupby([\"location\",\"year\"])[\"amount\"].agg([sum]).reset_index()\n",
        "cities_to_use = [\"Bengaluru\", \"New Delhi\", \"Mumbai\", \"Chennai\", \"Pune\", \"Hyderabad\"]\n",
        "temp_df = temp_df[temp_df[\"location\"].isin(cities_to_use)]\n",
        "temp_df.columns = [\"location\", \"year\", \"sum\"]\n",
        "temp_df[:10]                                  \n"
      ],
      "execution_count": 65,
      "outputs": [
        {
          "output_type": "execute_result",
          "data": {
            "text/html": [
              "<div>\n",
              "<style scoped>\n",
              "    .dataframe tbody tr th:only-of-type {\n",
              "        vertical-align: middle;\n",
              "    }\n",
              "\n",
              "    .dataframe tbody tr th {\n",
              "        vertical-align: top;\n",
              "    }\n",
              "\n",
              "    .dataframe thead th {\n",
              "        text-align: right;\n",
              "    }\n",
              "</style>\n",
              "<table border=\"1\" class=\"dataframe\">\n",
              "  <thead>\n",
              "    <tr style=\"text-align: right;\">\n",
              "      <th></th>\n",
              "      <th>location</th>\n",
              "      <th>year</th>\n",
              "      <th>sum</th>\n",
              "    </tr>\n",
              "  </thead>\n",
              "  <tbody>\n",
              "    <tr>\n",
              "      <th>13</th>\n",
              "      <td>Bengaluru</td>\n",
              "      <td>2015</td>\n",
              "      <td>2.967388e+09</td>\n",
              "    </tr>\n",
              "    <tr>\n",
              "      <th>14</th>\n",
              "      <td>Bengaluru</td>\n",
              "      <td>2016</td>\n",
              "      <td>1.023396e+09</td>\n",
              "    </tr>\n",
              "    <tr>\n",
              "      <th>15</th>\n",
              "      <td>Bengaluru</td>\n",
              "      <td>2017</td>\n",
              "      <td>7.416604e+09</td>\n",
              "    </tr>\n",
              "    <tr>\n",
              "      <th>16</th>\n",
              "      <td>Bengaluru</td>\n",
              "      <td>2018</td>\n",
              "      <td>1.550715e+09</td>\n",
              "    </tr>\n",
              "    <tr>\n",
              "      <th>17</th>\n",
              "      <td>Bengaluru</td>\n",
              "      <td>2019</td>\n",
              "      <td>1.465947e+09</td>\n",
              "    </tr>\n",
              "    <tr>\n",
              "      <th>18</th>\n",
              "      <td>Bengaluru</td>\n",
              "      <td>2020</td>\n",
              "      <td>2.183589e+08</td>\n",
              "    </tr>\n",
              "    <tr>\n",
              "      <th>40</th>\n",
              "      <td>Chennai</td>\n",
              "      <td>2015</td>\n",
              "      <td>2.419000e+08</td>\n",
              "    </tr>\n",
              "    <tr>\n",
              "      <th>41</th>\n",
              "      <td>Chennai</td>\n",
              "      <td>2016</td>\n",
              "      <td>1.167550e+08</td>\n",
              "    </tr>\n",
              "    <tr>\n",
              "      <th>42</th>\n",
              "      <td>Chennai</td>\n",
              "      <td>2017</td>\n",
              "      <td>1.038230e+08</td>\n",
              "    </tr>\n",
              "    <tr>\n",
              "      <th>43</th>\n",
              "      <td>Chennai</td>\n",
              "      <td>2018</td>\n",
              "      <td>2.422890e+08</td>\n",
              "    </tr>\n",
              "  </tbody>\n",
              "</table>\n",
              "</div>"
            ],
            "text/plain": [
              "     location  year           sum\n",
              "13  Bengaluru  2015  2.967388e+09\n",
              "14  Bengaluru  2016  1.023396e+09\n",
              "15  Bengaluru  2017  7.416604e+09\n",
              "16  Bengaluru  2018  1.550715e+09\n",
              "17  Bengaluru  2019  1.465947e+09\n",
              "18  Bengaluru  2020  2.183589e+08\n",
              "40    Chennai  2015  2.419000e+08\n",
              "41    Chennai  2016  1.167550e+08\n",
              "42    Chennai  2017  1.038230e+08\n",
              "43    Chennai  2018  2.422890e+08"
            ]
          },
          "metadata": {
            "tags": []
          },
          "execution_count": 65
        }
      ]
    },
    {
      "cell_type": "code",
      "metadata": {
        "id": "Q37Fe92H4fGC",
        "colab_type": "code",
        "colab": {
          "base_uri": "https://localhost:8080/",
          "height": 729
        },
        "outputId": "1770914f-edfb-479c-992e-ece13854db37"
      },
      "source": [
        "import matplotlib.pyplot as plt\n",
        "plt.style.use('ggplot')\n",
        "plt.style.use('seaborn-notebook')\n",
        "\n",
        "plt.style.use('seaborn-white')\n",
        "fig = plt.figure(figsize=(16,12))\n",
        "\n",
        "ax1 = fig.add_subplot(221)\n",
        "ax2 = fig.add_subplot(222)\n",
        "ax3 = fig.add_subplot(212)\n",
        "\n",
        "cmap = plt.cm.coolwarm_r\n",
        "\n",
        "startup['location'].value_counts()[:10].sort_values().plot(\n",
        "    kind='barh',\n",
        "    color=\"#1E90FF\",\n",
        "    title='Number of Fundings by Location',\n",
        "    grid=False,\n",
        "    legend=False,\n",
        "    ax=ax1)\n",
        "ax1.set_xlabel('# of Fundings', fontsize=12)\n",
        "startup.groupby(['location'])['amount'].agg(sum).sort_values(ascending=False)[:10].sort_values(ascending=True).plot(\n",
        "    kind='barh',\n",
        "    color=\"#1E90FF\", \n",
        "    title='Total Sum of Fundings by Location', \n",
        "    legend=False, \n",
        "    grid=False,\n",
        "    ax=ax2)\n",
        "ax2.set_xlabel('Total Fundings (USD)', fontsize=12)\n",
        "\n",
        "for loc in cities_to_use:\n",
        "    df =  temp_df[temp_df['location']==loc]\n",
        "    df.plot(x='year', y='sum', kind='line',label=loc, ax = ax3)\n",
        "\n",
        "ax3.legend()    \n",
        "ax3.set_title('Trend of Total Funding Amount(in USD) by location', fontsize=14)\n",
        "ax3.set_xlabel('Year', fontsize=12)\n",
        "plt.show();"
      ],
      "execution_count": 66,
      "outputs": [
        {
          "output_type": "display_data",
          "data": {
            "image/png": "[encoded data removed]",
            "text/plain": [
              "<Figure size 1152x864 with 3 Axes>"
            ]
          },
          "metadata": {
            "tags": []
          }
        }
      ]
    },
    {
      "cell_type": "markdown",
      "metadata": {
        "id": "tajlI6J75f72",
        "colab_type": "text"
      },
      "source": [
        "Bengaluru is way ahead in terms of total funding amount recieved. We can also evaluate the historical trend and see whether it was always investors and startup owners top choice"
      ]
    },
    {
      "cell_type": "markdown",
      "metadata": {
        "id": "-yYUnFjE5bKv",
        "colab_type": "text"
      },
      "source": [
        "We can see a general decreasing trend at all locations. Bengaluru stills tops the charts in the total number of fundings recieved by indian startups"
      ]
    },
    {
      "cell_type": "markdown",
      "metadata": {
        "id": "ZYThMxK86KsK",
        "colab_type": "text"
      },
      "source": [
        "1. Bengaluru has been the top state in term of total funding amount since 2015. \n",
        "2. Mumbai surpassed New Delhi in 2016 and is still at #2 position \n",
        "3. Bengaluru saw a huge spike in 2017 - from our earlier visualization, we saw startups like Flipkart, PayTM recived a billion dollars fundings in 2017 "
      ]
    },
    {
      "cell_type": "markdown",
      "metadata": {
        "id": "0JLINZlZ6Mms",
        "colab_type": "text"
      },
      "source": [
        "It would be interesting to see the most common type of fundings received by Indian startups. "
      ]
    },
    {
      "cell_type": "code",
      "metadata": {
        "id": "C79ILy3R5hqa",
        "colab_type": "code",
        "outputId": "e6847026-05ec-46e7-9b7d-d2c64a0efe15",
        "colab": {
          "base_uri": "https://localhost:8080/",
          "height": 702
        }
      },
      "source": [
        "#Correct 'Seed/Angel Funding' as 'Seed Funding' \n",
        "startup['investment_type'] = startup['investment_type'].apply(lambda x: 'Seed Funding' if 'Seed' in str(x) else x)\n",
        "\n",
        "#Number of fundings by investent type \n",
        "startup['investment_type'].value_counts()[:5].plot(figsize=(12,12),kind='pie', legend=False,fontsize=12,autopct='%1.1f%%')\n",
        "plt.title( 'Number of Fundings by Investment Type', fontsize=18)\n",
        "plt.ylabel(\"\");\n"
      ],
      "execution_count": 67,
      "outputs": [
        {
          "output_type": "display_data",
          "data": {
            "image/png": "[encoded data removed]",
            "text/plain": [
              "<Figure size 864x864 with 1 Axes>"
            ]
          },
          "metadata": {
            "tags": []
          }
        }
      ]
    },
    {
      "cell_type": "markdown",
      "metadata": {
        "id": "sa03xHJwV0bt",
        "colab_type": "text"
      },
      "source": [
        "Private Equity and Seed Funding Form are most common type of investments made in Indians Startups"
      ]
    }
  ]
}